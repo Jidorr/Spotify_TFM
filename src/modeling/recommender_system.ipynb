{
 "cells": [
  {
   "cell_type": "code",
   "execution_count": 3,
   "metadata": {},
   "outputs": [],
   "source": [
    "import sys\n",
    "import os\n",
    "\n",
    "module_path = os.path.abspath(os.path.join('..'))\n",
    "if module_path not in sys.path:\n",
    "    sys.path.append(module_path+\"\\\\api_scraping\")\n",
    "    sys.path.append(module_path+\"\\\\functions\")\n",
    "\n",
    "from get_user_data import *\n",
    "from database import *"
   ]
  },
  {
   "cell_type": "code",
   "execution_count": 4,
   "metadata": {},
   "outputs": [
    {
     "name": "stdout",
     "output_type": "stream",
     "text": [
      "{'irish tavern': '4JGY9SfDvvTGecTSaTGFUV', 'country?': '5J0lP9PmQb4XBebDt1O5KE', 'gym electropop': '6T18XkG7ZbovwypPQFTm55', 'gym metal-rock': '0uDBW7RKRAl81WDF7iNBgw', 'powerwolf': '0DqzAhHJN82fZhSFFawdUH', 'musica papa': '4p16STMl2UrZ368yMV3cgE', 'Dean Lewis: Complete Collection': '1yTgfZuOGyKbpvh8oNKoUW', 'piano': '0aBenURYxCeUoTBOc94EJm', 'miau': '0K0kKdTp7DonYfU3JZbqSX', \"chillin'\": '2ivUxiPzbA4Uer5yrkxi2W', \"iiii]; )'\": '3uHu9xWtS4AI8T9Br5VKk3', 'power': '4TUeAPGhUFS9TAUBWRauAK', 'jordii': '7hOk6IREOVrvVAvyPZoPUs'}\n"
     ]
    }
   ],
   "source": [
    "print(getUserPlaylists())"
   ]
  },
  {
   "cell_type": "code",
   "execution_count": null,
   "metadata": {},
   "outputs": [],
   "source": []
  }
 ],
 "metadata": {
  "kernelspec": {
   "display_name": "venv",
   "language": "python",
   "name": "python3"
  },
  "language_info": {
   "codemirror_mode": {
    "name": "ipython",
    "version": 3
   },
   "file_extension": ".py",
   "mimetype": "text/x-python",
   "name": "python",
   "nbconvert_exporter": "python",
   "pygments_lexer": "ipython3",
   "version": "3.10.5"
  },
  "orig_nbformat": 4
 },
 "nbformat": 4,
 "nbformat_minor": 2
}
